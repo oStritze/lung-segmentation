{
 "cells": [
  {
   "cell_type": "code",
   "execution_count": 36,
   "metadata": {},
   "outputs": [
    {
     "data": {
      "text/plain": [
       "['revacc_0', 'revacc_1', 'revacc_2', 'revacc_3']"
      ]
     },
     "execution_count": 36,
     "metadata": {},
     "output_type": "execute_result"
    }
   ],
   "source": [
    "folders = []\n",
    "for i in range(0,4): folders.append(f\"revacc_{i}\")\n",
    "folders"
   ]
  },
  {
   "cell_type": "code",
   "execution_count": 37,
   "metadata": {},
   "outputs": [
    {
     "name": "stdout",
     "output_type": "stream",
     "text": [
      "The autoreload extension is already loaded. To reload it, use:\n",
      "  %reload_ext autoreload\n"
     ]
    },
    {
     "data": {
      "text/plain": [
       "device(type='cuda', index=0)"
      ]
     },
     "execution_count": 37,
     "metadata": {},
     "output_type": "execute_result"
    }
   ],
   "source": [
    "%load_ext autoreload\n",
    "%autoreload 2\n",
    "\n",
    "import torch\n",
    "import torchvision\n",
    "import os\n",
    "import glob\n",
    "import time \n",
    "import pickle\n",
    "\n",
    "import pandas as pd\n",
    "import numpy as np\n",
    "import matplotlib.pyplot as plt\n",
    "\n",
    "from pathlib import Path\n",
    "from PIL import Image\n",
    "from sklearn.model_selection import train_test_split\n",
    "\n",
    "from src.data import LungDataset, blend, Pad, Crop, Resize, Rotate\n",
    "from src.models import UNet, PretrainedUNet\n",
    "from src.metrics import jaccard, dice\n",
    "\n",
    "device = torch.device(\"cuda:0\" if torch.cuda.is_available() else \"cpu\")\n",
    "device"
   ]
  },
  {
   "cell_type": "code",
   "execution_count": 38,
   "metadata": {},
   "outputs": [],
   "source": [
    "unet = PretrainedUNet(1, 2, True, \"bilinear\")"
   ]
  },
  {
   "cell_type": "code",
   "execution_count": 39,
   "metadata": {},
   "outputs": [
    {
     "name": "stdout",
     "output_type": "stream",
     "text": [
      "800\n",
      "704\n",
      "704\n"
     ]
    }
   ],
   "source": [
    "\n",
    "#now load the original training data we have GT for \n",
    "data_folder = Path(\"/media/rolyn/Data/studi/MA/dataset\") # local\n",
    "origins_folder = data_folder / \"images\"\n",
    "masks_folder = data_folder / \"masks\"\n",
    "models_folder = Path(\"models\")\n",
    "images_folder = Path(\"images\")\n",
    "\n",
    "origins_list = [f.stem for f in origins_folder.glob(\"*.png\")]\n",
    "origins_list = [o for o in origins_list if not o.startswith(\"._\")] # remove weird ._ files\n",
    "masks_list = [f.stem for f in masks_folder.glob(\"*.png\")]\n",
    "masks_list = [o for o in masks_list if not o.startswith(\"._\")] # remove weird ._ files\n",
    "\n",
    "print(len(origins_list))\n",
    "print(len(masks_list))\n",
    "\n",
    "origin_mask_list = [(mask_name.replace(\"_mask\", \"\"), mask_name) for mask_name in masks_list]\n",
    "print(len(origin_mask_list))\n",
    "original_splits = {}\n",
    "original_splits[\"train\"], original_splits[\"test\"] = train_test_split(origin_mask_list, test_size=0.2, random_state=42)\n",
    "\n",
    "val_test_transforms = torchvision.transforms.Compose([\n",
    "    Resize((512, 512)),\n",
    "])\n",
    "\n",
    "train_transforms = torchvision.transforms.Compose([\n",
    "    Pad(300),\n",
    "    Rotate(-25, 25),\n",
    "    Crop(300),\n",
    "    val_test_transforms,\n",
    "])\n",
    "\n",
    "datasets = {x: LungDataset(\n",
    "    original_splits[x], \n",
    "    origins_folder, \n",
    "    masks_folder, \n",
    "    train_transforms if x == \"train\" else val_test_transforms\n",
    ") for x in [\"train\", \"test\"]}\n",
    "\n",
    "dataloaders = {x: torch.utils.data.DataLoader(datasets[x], batch_size=1) for x in [\"train\", \"test\"]}"
   ]
  },
  {
   "cell_type": "code",
   "execution_count": 40,
   "metadata": {},
   "outputs": [],
   "source": [
    "def evaluate(folder, resdf:pd.DataFrame(), dataloaders):\n",
    "    model_name = f\"{folder}_unet-6v.pt\"\n",
    "\n",
    "    models_folder = Path(\"models\")\n",
    "\n",
    "\n",
    "    #model_name = \"os_unet_v1.pt\"\n",
    "    print(model_name)\n",
    "    unet.load_state_dict(torch.load(models_folder / model_name, map_location=torch.device(\"cpu\")))\n",
    "    unet.to(device)\n",
    "    #unet.eval()\n",
    "\n",
    "    test_loss = []\n",
    "    test_jaccard = []\n",
    "    test_dice = []\n",
    "\n",
    "    for origins, masks in dataloaders[\"test\"]:\n",
    "        num = origins.size(0)\n",
    "        #print(num)\n",
    "\n",
    "        origins = origins.to(device)\n",
    "        masks = masks.to(device)\n",
    "\n",
    "        with torch.no_grad():\n",
    "            outs = unet(origins)\n",
    "            softmax = torch.nn.functional.log_softmax(outs, dim=1)\n",
    "            test_loss.append(torch.nn.functional.nll_loss(softmax, masks).item() * num)\n",
    "\n",
    "            outs = torch.argmax(softmax, dim=1)\n",
    "            outs = outs.float()\n",
    "            masks = masks.float()\n",
    "            test_jaccard.append(jaccard(masks, outs).item() * num)\n",
    "            test_dice.append(dice(masks, outs).item() * num)\n",
    "            #test_jaccard += jaccard(masks, outs).item() * num\n",
    "            #test_dice += dice(masks, outs).item() * num\n",
    "        print(\".\", end=\"\")\n",
    "\n",
    "    #test_loss = test_loss / len(datasets[\"test\"])\n",
    "    #test_jaccard = test_jaccard / len(datasets[\"test\"])\n",
    "    #test_dice = test_dice / len(datasets[\"test\"])\n",
    "\n",
    "    m_test_loss = np.mean(test_loss)\n",
    "    m_test_jaccard = np.mean(test_jaccard)\n",
    "    m_test_dice = np.mean(test_dice)\n",
    "\n",
    "    print()\n",
    "    print(\"Scores on {} test images: \".format(len(datasets[\"test\"])))\n",
    "    print(f\"avg test loss: {m_test_loss}\")\n",
    "    print(f\"avg test jaccard: {m_test_jaccard}\")\n",
    "    print(f\"avg test dice: {m_test_dice}\")\n",
    "\n",
    "    resdf.at[folder, \"loss\"] = m_test_loss\n",
    "    resdf.at[folder, \"loss_sd\"] = np.std(test_loss)\n",
    "    resdf.at[folder, \"jaccard\"] = m_test_jaccard\n",
    "    resdf.at[folder, \"jaccard_sd\"] = np.std(test_jaccard)\n",
    "    resdf.at[folder, \"dice\"] = m_test_dice\n",
    "    resdf.at[folder, \"dice_sd\"] = np.std(test_dice)\n"
   ]
  },
  {
   "cell_type": "code",
   "execution_count": 41,
   "metadata": {},
   "outputs": [
    {
     "data": {
      "text/plain": [
       "2.280350850198276"
      ]
     },
     "execution_count": 41,
     "metadata": {},
     "output_type": "execute_result"
    }
   ],
   "source": [
    "a = [1,7,6,2,4]\n",
    "np.std(a)"
   ]
  },
  {
   "cell_type": "code",
   "execution_count": 42,
   "metadata": {},
   "outputs": [
    {
     "name": "stdout",
     "output_type": "stream",
     "text": [
      "revacc_0_unet-6v.pt\n",
      ".............................................................................................................................................\n",
      "Scores on 141 test images: \n",
      "avg test loss: 0.09045835119401309\n",
      "avg test jaccard: 0.8858040892486031\n",
      "avg test dice: 0.9384132551808729\n",
      "revacc_1_unet-6v.pt\n",
      ".............................................................................................................................................\n",
      "Scores on 141 test images: \n",
      "avg test loss: 0.10624498371959579\n",
      "avg test jaccard: 0.8793780562725473\n",
      "avg test dice: 0.9344203455228333\n",
      "revacc_2_unet-6v.pt\n",
      ".............................................................................................................................................\n",
      "Scores on 141 test images: \n",
      "avg test loss: 0.09549594509369093\n",
      "avg test jaccard: 0.8883732464296598\n",
      "avg test dice: 0.9397749723272121\n",
      "revacc_3_unet-6v.pt\n",
      ".............................................................................................................................................\n",
      "Scores on 141 test images: \n",
      "avg test loss: 0.09308097393958704\n",
      "avg test jaccard: 0.8845581729361351\n",
      "avg test dice: 0.9377922851143153\n"
     ]
    },
    {
     "data": {
      "text/html": [
       "<div>\n",
       "<style scoped>\n",
       "    .dataframe tbody tr th:only-of-type {\n",
       "        vertical-align: middle;\n",
       "    }\n",
       "\n",
       "    .dataframe tbody tr th {\n",
       "        vertical-align: top;\n",
       "    }\n",
       "\n",
       "    .dataframe thead th {\n",
       "        text-align: right;\n",
       "    }\n",
       "</style>\n",
       "<table border=\"1\" class=\"dataframe\">\n",
       "  <thead>\n",
       "    <tr style=\"text-align: right;\">\n",
       "      <th></th>\n",
       "      <th>loss</th>\n",
       "      <th>loss_sd</th>\n",
       "      <th>jaccard</th>\n",
       "      <th>jaccard_sd</th>\n",
       "      <th>dice</th>\n",
       "      <th>dice_sd</th>\n",
       "    </tr>\n",
       "  </thead>\n",
       "  <tbody>\n",
       "    <tr>\n",
       "      <th>revacc_0</th>\n",
       "      <td>0.090458</td>\n",
       "      <td>0.055986</td>\n",
       "      <td>0.885804</td>\n",
       "      <td>0.056987</td>\n",
       "      <td>0.938413</td>\n",
       "      <td>0.034176</td>\n",
       "    </tr>\n",
       "    <tr>\n",
       "      <th>revacc_1</th>\n",
       "      <td>0.106245</td>\n",
       "      <td>0.076266</td>\n",
       "      <td>0.879378</td>\n",
       "      <td>0.065470</td>\n",
       "      <td>0.934420</td>\n",
       "      <td>0.040211</td>\n",
       "    </tr>\n",
       "    <tr>\n",
       "      <th>revacc_2</th>\n",
       "      <td>0.095496</td>\n",
       "      <td>0.066439</td>\n",
       "      <td>0.888373</td>\n",
       "      <td>0.059553</td>\n",
       "      <td>0.939775</td>\n",
       "      <td>0.035318</td>\n",
       "    </tr>\n",
       "    <tr>\n",
       "      <th>revacc_3</th>\n",
       "      <td>0.093081</td>\n",
       "      <td>0.068119</td>\n",
       "      <td>0.884558</td>\n",
       "      <td>0.055262</td>\n",
       "      <td>0.937792</td>\n",
       "      <td>0.032459</td>\n",
       "    </tr>\n",
       "  </tbody>\n",
       "</table>\n",
       "</div>"
      ],
      "text/plain": [
       "              loss   loss_sd   jaccard  jaccard_sd      dice   dice_sd\n",
       "revacc_0  0.090458  0.055986  0.885804    0.056987  0.938413  0.034176\n",
       "revacc_1  0.106245  0.076266  0.879378    0.065470  0.934420  0.040211\n",
       "revacc_2  0.095496  0.066439  0.888373    0.059553  0.939775  0.035318\n",
       "revacc_3  0.093081  0.068119  0.884558    0.055262  0.937792  0.032459"
      ]
     },
     "execution_count": 42,
     "metadata": {},
     "output_type": "execute_result"
    }
   ],
   "source": [
    "resdf = pd.DataFrame(index=folders)\n",
    "for f in folders:\n",
    "    evaluate(f, resdf, dataloaders)\n",
    "\n",
    "resdf"
   ]
  },
  {
   "cell_type": "code",
   "execution_count": 49,
   "metadata": {},
   "outputs": [
    {
     "data": {
      "text/html": [
       "<div>\n",
       "<style scoped>\n",
       "    .dataframe tbody tr th:only-of-type {\n",
       "        vertical-align: middle;\n",
       "    }\n",
       "\n",
       "    .dataframe tbody tr th {\n",
       "        vertical-align: top;\n",
       "    }\n",
       "\n",
       "    .dataframe thead th {\n",
       "        text-align: right;\n",
       "    }\n",
       "</style>\n",
       "<table border=\"1\" class=\"dataframe\">\n",
       "  <thead>\n",
       "    <tr style=\"text-align: right;\">\n",
       "      <th></th>\n",
       "      <th>loss</th>\n",
       "      <th>loss_sd</th>\n",
       "      <th>jaccard</th>\n",
       "      <th>jaccard_sd</th>\n",
       "      <th>dice</th>\n",
       "      <th>dice_sd</th>\n",
       "    </tr>\n",
       "  </thead>\n",
       "  <tbody>\n",
       "    <tr>\n",
       "      <th>revacc_0</th>\n",
       "      <td>0.0905</td>\n",
       "      <td>0.0560</td>\n",
       "      <td>0.8858</td>\n",
       "      <td>0.0570</td>\n",
       "      <td>0.9384</td>\n",
       "      <td>0.0342</td>\n",
       "    </tr>\n",
       "    <tr>\n",
       "      <th>revacc_1</th>\n",
       "      <td>0.1062</td>\n",
       "      <td>0.0763</td>\n",
       "      <td>0.8794</td>\n",
       "      <td>0.0655</td>\n",
       "      <td>0.9344</td>\n",
       "      <td>0.0402</td>\n",
       "    </tr>\n",
       "    <tr>\n",
       "      <th>revacc_2</th>\n",
       "      <td>0.0955</td>\n",
       "      <td>0.0664</td>\n",
       "      <td>0.8884</td>\n",
       "      <td>0.0596</td>\n",
       "      <td>0.9398</td>\n",
       "      <td>0.0353</td>\n",
       "    </tr>\n",
       "    <tr>\n",
       "      <th>revacc_3</th>\n",
       "      <td>0.0931</td>\n",
       "      <td>0.0681</td>\n",
       "      <td>0.8846</td>\n",
       "      <td>0.0553</td>\n",
       "      <td>0.9378</td>\n",
       "      <td>0.0325</td>\n",
       "    </tr>\n",
       "  </tbody>\n",
       "</table>\n",
       "</div>"
      ],
      "text/plain": [
       "            loss  loss_sd  jaccard  jaccard_sd    dice  dice_sd\n",
       "revacc_0  0.0905   0.0560   0.8858      0.0570  0.9384   0.0342\n",
       "revacc_1  0.1062   0.0763   0.8794      0.0655  0.9344   0.0402\n",
       "revacc_2  0.0955   0.0664   0.8884      0.0596  0.9398   0.0353\n",
       "revacc_3  0.0931   0.0681   0.8846      0.0553  0.9378   0.0325"
      ]
     },
     "execution_count": 49,
     "metadata": {},
     "output_type": "execute_result"
    }
   ],
   "source": [
    "resdf.round(4)"
   ]
  }
 ],
 "metadata": {
  "interpreter": {
   "hash": "99039fd15f14e64dc0637136f0dfc9092000fce0d23399b802c404211b5bc303"
  },
  "kernelspec": {
   "display_name": "Python 3.8.5 ('base')",
   "language": "python",
   "name": "python3"
  },
  "language_info": {
   "codemirror_mode": {
    "name": "ipython",
    "version": 3
   },
   "file_extension": ".py",
   "mimetype": "text/x-python",
   "name": "python",
   "nbconvert_exporter": "python",
   "pygments_lexer": "ipython3",
   "version": "3.8.5"
  },
  "orig_nbformat": 4
 },
 "nbformat": 4,
 "nbformat_minor": 2
}
